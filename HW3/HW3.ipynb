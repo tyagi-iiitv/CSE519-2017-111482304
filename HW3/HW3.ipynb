{
 "cells": [
  {
   "cell_type": "markdown",
   "metadata": {},
   "source": [
    "### Homework 3 (Anjul Kumar Tyagi - 111482304, Sanaz Sheikhi - 111733554)\n",
    "#### Task 1 (Scoring the houses based on desirability)\n",
    "Build a scoring function to rank houses by “desirability”, presumably a notion related to cost or value.  Identify what the ten most desirable and least desirable houses in the Kaggle data set are, and write a one page description of which variables your function used and how well you think it worked.\n"
   ]
  },
  {
   "cell_type": "code",
   "execution_count": 1,
   "metadata": {},
   "outputs": [],
   "source": [
    "import pandas as pd\n",
    "import warnings\n",
    "def ignore_warn(*args, **kwargs):\n",
    "    pass\n",
    "warnings.warn = ignore_warn #ignore annoying warning"
   ]
  },
  {
   "cell_type": "markdown",
   "metadata": {},
   "source": [
    "For Desirability, we chose four features that according to us, affect the desirability of the house. These features are:\n",
    "\n",
    "- Land Tax Value: Land Tax Value justifies how good/bad the area of situated house is. The **more** the land tax, **more** valuable the land is, and hence, **more desirable** house.\n",
    "- Structure Tax Value: The tax on the house shows how valuable that house is. So, in our desirability matrix, **more** the structure tax, **more desirable** the house.\n",
    "- Tax Amount: **Higher** the tax, lower is it's desirability.\n",
    "- Year built: **Newer** the house, more it's desirable.\n",
    "\n",
    "For all the above features, the rank of the features for their importance is: **Land Tax Value > Structure Tax Value > Tax Amount > Year Built.**\n",
    "\n",
    "Given this ranking we've weighted the features and computed the sum in our scoring function."
   ]
  },
  {
   "cell_type": "markdown",
   "metadata": {},
   "source": [
    "We will start by fetching the features from the properties file."
   ]
  },
  {
   "cell_type": "code",
   "execution_count": 38,
   "metadata": {},
   "outputs": [],
   "source": [
    "colnames = ['parcelid','landtaxvaluedollarcnt','structuretaxvaluedollarcnt','taxamount','yearbuilt']\n",
    "col_new = ['landtaxvaluedollarcnt','structuretaxvaluedollarcnt','taxamount','yearbuilt']\n",
    "desire = pd.read_csv('data/properties_2017.csv', usecols=colnames)\n",
    "desire_normal = pd.read_csv('data/properties_2017.csv', usecols=colnames)"
   ]
  },
  {
   "cell_type": "markdown",
   "metadata": {},
   "source": [
    "Dropping the rows with Nan values"
   ]
  },
  {
   "cell_type": "code",
   "execution_count": 42,
   "metadata": {},
   "outputs": [],
   "source": [
    "desire = desire.dropna(axis=0, how='any')\n",
    "desire_normal = desire_normal.dropna(axis=0, how='any')"
   ]
  },
  {
   "cell_type": "markdown",
   "metadata": {},
   "source": [
    "**Scoring Function:** Our scoring function is given by the equation:\n",
    "**Score = SUM(Weight_feature*Feature_value)**\n",
    "\n",
    "Because we're adding the feature values, we need to normalize them before we can use them in our scoring function."
   ]
  },
  {
   "cell_type": "code",
   "execution_count": 17,
   "metadata": {},
   "outputs": [],
   "source": [
    "from sklearn.preprocessing import MinMaxScaler\n",
    "min_max_scalar = MinMaxScaler()"
   ]
  },
  {
   "cell_type": "code",
   "execution_count": 44,
   "metadata": {},
   "outputs": [],
   "source": [
    "desire_normal[col_new] = min_max_scalar.fit_transform(desire_normal[col_new])"
   ]
  },
  {
   "cell_type": "markdown",
   "metadata": {},
   "source": [
    "After Normalizing the data, we can use our scoring function to store the values in other column named **score**. We'll put weights in one vector and calculate the scores for each Parcel in the **desire dataframe.**"
   ]
  },
  {
   "cell_type": "code",
   "execution_count": 18,
   "metadata": {},
   "outputs": [
    {
     "data": {
      "text/html": [
       "<div>\n",
       "<style>\n",
       "    .dataframe thead tr:only-child th {\n",
       "        text-align: right;\n",
       "    }\n",
       "\n",
       "    .dataframe thead th {\n",
       "        text-align: left;\n",
       "    }\n",
       "\n",
       "    .dataframe tbody tr th {\n",
       "        vertical-align: top;\n",
       "    }\n",
       "</style>\n",
       "<table border=\"1\" class=\"dataframe\">\n",
       "  <thead>\n",
       "    <tr style=\"text-align: right;\">\n",
       "      <th></th>\n",
       "      <th>0</th>\n",
       "    </tr>\n",
       "  </thead>\n",
       "  <tbody>\n",
       "    <tr>\n",
       "      <th>landtaxvaluedollarcnt</th>\n",
       "      <td>0.5</td>\n",
       "    </tr>\n",
       "    <tr>\n",
       "      <th>structuretaxvaluedollarcnt</th>\n",
       "      <td>0.3</td>\n",
       "    </tr>\n",
       "    <tr>\n",
       "      <th>taxamount</th>\n",
       "      <td>-0.2</td>\n",
       "    </tr>\n",
       "    <tr>\n",
       "      <th>yearbuilt</th>\n",
       "      <td>0.1</td>\n",
       "    </tr>\n",
       "  </tbody>\n",
       "</table>\n",
       "</div>"
      ],
      "text/plain": [
       "                              0\n",
       "landtaxvaluedollarcnt       0.5\n",
       "structuretaxvaluedollarcnt  0.3\n",
       "taxamount                  -0.2\n",
       "yearbuilt                   0.1"
      ]
     },
     "execution_count": 18,
     "metadata": {},
     "output_type": "execute_result"
    }
   ],
   "source": [
    "weights = pd.DataFrame(pd.Series([0.5, 0.3, -0.2, 0.1],index=col_new, name=0))\n",
    "weights"
   ]
  },
  {
   "cell_type": "markdown",
   "metadata": {},
   "source": [
    "Run the scoring function to generate the scores for each tuple."
   ]
  },
  {
   "cell_type": "code",
   "execution_count": 47,
   "metadata": {},
   "outputs": [],
   "source": [
    "desire_normal['score'] = desire_normal[col_new].dot(weights)"
   ]
  },
  {
   "cell_type": "markdown",
   "metadata": {},
   "source": [
    "After the scoring is done, we'll replace the normalized values with the original values and then print the first 10 and last 10 most desirable houses from the list."
   ]
  },
  {
   "cell_type": "code",
   "execution_count": 50,
   "metadata": {},
   "outputs": [
    {
     "data": {
      "text/html": [
       "<div>\n",
       "<style>\n",
       "    .dataframe thead tr:only-child th {\n",
       "        text-align: right;\n",
       "    }\n",
       "\n",
       "    .dataframe thead th {\n",
       "        text-align: left;\n",
       "    }\n",
       "\n",
       "    .dataframe tbody tr th {\n",
       "        vertical-align: top;\n",
       "    }\n",
       "</style>\n",
       "<table border=\"1\" class=\"dataframe\">\n",
       "  <thead>\n",
       "    <tr style=\"text-align: right;\">\n",
       "      <th></th>\n",
       "      <th>parcelid</th>\n",
       "      <th>score</th>\n",
       "      <th>yearbuilt</th>\n",
       "      <th>structuretaxvaluedollarcnt</th>\n",
       "      <th>landtaxvaluedollarcnt</th>\n",
       "      <th>taxamount</th>\n",
       "    </tr>\n",
       "  </thead>\n",
       "  <tbody>\n",
       "    <tr>\n",
       "      <th>1279592</th>\n",
       "      <td>11641900</td>\n",
       "      <td>0.544823</td>\n",
       "      <td>2002.0</td>\n",
       "      <td>10355346.0</td>\n",
       "      <td>77665102.0</td>\n",
       "      <td>1052070.50</td>\n",
       "    </tr>\n",
       "    <tr>\n",
       "      <th>1217346</th>\n",
       "      <td>11984395</td>\n",
       "      <td>0.484157</td>\n",
       "      <td>2014.0</td>\n",
       "      <td>222334475.0</td>\n",
       "      <td>48670130.0</td>\n",
       "      <td>3277055.20</td>\n",
       "    </tr>\n",
       "    <tr>\n",
       "      <th>578433</th>\n",
       "      <td>11641913</td>\n",
       "      <td>0.459575</td>\n",
       "      <td>2001.0</td>\n",
       "      <td>7248742.0</td>\n",
       "      <td>63167616.0</td>\n",
       "      <td>841059.04</td>\n",
       "    </tr>\n",
       "    <tr>\n",
       "      <th>2178096</th>\n",
       "      <td>11645223</td>\n",
       "      <td>0.413071</td>\n",
       "      <td>1938.0</td>\n",
       "      <td>24469437.0</td>\n",
       "      <td>58726658.0</td>\n",
       "      <td>994030.96</td>\n",
       "    </tr>\n",
       "    <tr>\n",
       "      <th>1424571</th>\n",
       "      <td>11641911</td>\n",
       "      <td>0.406556</td>\n",
       "      <td>1970.0</td>\n",
       "      <td>3045750.0</td>\n",
       "      <td>56808872.0</td>\n",
       "      <td>715242.96</td>\n",
       "    </tr>\n",
       "    <tr>\n",
       "      <th>333154</th>\n",
       "      <td>11746970</td>\n",
       "      <td>0.403184</td>\n",
       "      <td>2013.0</td>\n",
       "      <td>255321161.0</td>\n",
       "      <td>31777325.0</td>\n",
       "      <td>3458861.12</td>\n",
       "    </tr>\n",
       "    <tr>\n",
       "      <th>2873199</th>\n",
       "      <td>11656332</td>\n",
       "      <td>0.365957</td>\n",
       "      <td>2014.0</td>\n",
       "      <td>27168090.0</td>\n",
       "      <td>43899410.0</td>\n",
       "      <td>824166.91</td>\n",
       "    </tr>\n",
       "    <tr>\n",
       "      <th>2597688</th>\n",
       "      <td>11639856</td>\n",
       "      <td>0.353353</td>\n",
       "      <td>1937.0</td>\n",
       "      <td>6466241.0</td>\n",
       "      <td>49733753.0</td>\n",
       "      <td>651677.87</td>\n",
       "    </tr>\n",
       "    <tr>\n",
       "      <th>1714692</th>\n",
       "      <td>11645106</td>\n",
       "      <td>0.339961</td>\n",
       "      <td>1927.0</td>\n",
       "      <td>109038.0</td>\n",
       "      <td>48952198.0</td>\n",
       "      <td>586639.30</td>\n",
       "    </tr>\n",
       "    <tr>\n",
       "      <th>859214</th>\n",
       "      <td>11642362</td>\n",
       "      <td>0.334065</td>\n",
       "      <td>1950.0</td>\n",
       "      <td>4568625.0</td>\n",
       "      <td>45686250.0</td>\n",
       "      <td>600616.63</td>\n",
       "    </tr>\n",
       "  </tbody>\n",
       "</table>\n",
       "</div>"
      ],
      "text/plain": [
       "         parcelid     score  yearbuilt  structuretaxvaluedollarcnt  \\\n",
       "1279592  11641900  0.544823     2002.0                  10355346.0   \n",
       "1217346  11984395  0.484157     2014.0                 222334475.0   \n",
       "578433   11641913  0.459575     2001.0                   7248742.0   \n",
       "2178096  11645223  0.413071     1938.0                  24469437.0   \n",
       "1424571  11641911  0.406556     1970.0                   3045750.0   \n",
       "333154   11746970  0.403184     2013.0                 255321161.0   \n",
       "2873199  11656332  0.365957     2014.0                  27168090.0   \n",
       "2597688  11639856  0.353353     1937.0                   6466241.0   \n",
       "1714692  11645106  0.339961     1927.0                    109038.0   \n",
       "859214   11642362  0.334065     1950.0                   4568625.0   \n",
       "\n",
       "         landtaxvaluedollarcnt   taxamount  \n",
       "1279592             77665102.0  1052070.50  \n",
       "1217346             48670130.0  3277055.20  \n",
       "578433              63167616.0   841059.04  \n",
       "2178096             58726658.0   994030.96  \n",
       "1424571             56808872.0   715242.96  \n",
       "333154              31777325.0  3458861.12  \n",
       "2873199             43899410.0   824166.91  \n",
       "2597688             49733753.0   651677.87  \n",
       "1714692             48952198.0   586639.30  \n",
       "859214              45686250.0   600616.63  "
      ]
     },
     "execution_count": 50,
     "metadata": {},
     "output_type": "execute_result"
    }
   ],
   "source": [
    "desire = pd.merge(desire_normal[['parcelid','score']], desire, on='parcelid', how='left')\n",
    "desire = desire.sort_values(['score'], ascending=False)\n",
    "desire.head(10)"
   ]
  },
  {
   "cell_type": "markdown",
   "metadata": {},
   "source": [
    "#### Analysis of Top 10 Most desirable houses\n",
    "As it's clear from the top 10 most desirable houses list, the most desirable house has the **Highest Land tax value** among all other houses, this means that this house is located at a very good location compared to other houses. Also, some of the houses are very recently built which can be seen by the parameter **year built.**\n",
    "\n",
    "However, there are some old houses such as the ones built in **1937 and 1927** but because of their location in a posh area, they are more desirable than other houses.\n",
    "\n",
    "Tax Amount also plays a role in deciding the top 10 houses as it can be seen that all of these houses have a decent tax amount compared to their location."
   ]
  },
  {
   "cell_type": "code",
   "execution_count": 51,
   "metadata": {},
   "outputs": [
    {
     "data": {
      "text/html": [
       "<div>\n",
       "<style>\n",
       "    .dataframe thead tr:only-child th {\n",
       "        text-align: right;\n",
       "    }\n",
       "\n",
       "    .dataframe thead th {\n",
       "        text-align: left;\n",
       "    }\n",
       "\n",
       "    .dataframe tbody tr th {\n",
       "        vertical-align: top;\n",
       "    }\n",
       "</style>\n",
       "<table border=\"1\" class=\"dataframe\">\n",
       "  <thead>\n",
       "    <tr style=\"text-align: right;\">\n",
       "      <th></th>\n",
       "      <th>parcelid</th>\n",
       "      <th>score</th>\n",
       "      <th>yearbuilt</th>\n",
       "      <th>structuretaxvaluedollarcnt</th>\n",
       "      <th>landtaxvaluedollarcnt</th>\n",
       "      <th>taxamount</th>\n",
       "    </tr>\n",
       "  </thead>\n",
       "  <tbody>\n",
       "    <tr>\n",
       "      <th>1353114</th>\n",
       "      <td>11911525</td>\n",
       "      <td>0.004201</td>\n",
       "      <td>1801.0</td>\n",
       "      <td>471167.0</td>\n",
       "      <td>707269.0</td>\n",
       "      <td>15682.27</td>\n",
       "    </tr>\n",
       "    <tr>\n",
       "      <th>1033481</th>\n",
       "      <td>11765988</td>\n",
       "      <td>0.003606</td>\n",
       "      <td>1808.0</td>\n",
       "      <td>131562.0</td>\n",
       "      <td>50710.0</td>\n",
       "      <td>2277.20</td>\n",
       "    </tr>\n",
       "    <tr>\n",
       "      <th>1840632</th>\n",
       "      <td>12560874</td>\n",
       "      <td>0.003466</td>\n",
       "      <td>1806.0</td>\n",
       "      <td>54382.0</td>\n",
       "      <td>202031.0</td>\n",
       "      <td>3883.01</td>\n",
       "    </tr>\n",
       "    <tr>\n",
       "      <th>64742</th>\n",
       "      <td>12360654</td>\n",
       "      <td>0.003396</td>\n",
       "      <td>1808.0</td>\n",
       "      <td>10950.0</td>\n",
       "      <td>29799.0</td>\n",
       "      <td>1122.88</td>\n",
       "    </tr>\n",
       "    <tr>\n",
       "      <th>1486147</th>\n",
       "      <td>12554225</td>\n",
       "      <td>0.003072</td>\n",
       "      <td>1807.0</td>\n",
       "      <td>19685.0</td>\n",
       "      <td>48184.0</td>\n",
       "      <td>909.47</td>\n",
       "    </tr>\n",
       "    <tr>\n",
       "      <th>1414893</th>\n",
       "      <td>12879853</td>\n",
       "      <td>0.002841</td>\n",
       "      <td>1805.0</td>\n",
       "      <td>108225.0</td>\n",
       "      <td>164500.0</td>\n",
       "      <td>3562.94</td>\n",
       "    </tr>\n",
       "    <tr>\n",
       "      <th>2454028</th>\n",
       "      <td>11911158</td>\n",
       "      <td>0.001580</td>\n",
       "      <td>1801.0</td>\n",
       "      <td>129353.0</td>\n",
       "      <td>272611.0</td>\n",
       "      <td>5658.76</td>\n",
       "    </tr>\n",
       "    <tr>\n",
       "      <th>1949519</th>\n",
       "      <td>12450176</td>\n",
       "      <td>0.001008</td>\n",
       "      <td>1802.0</td>\n",
       "      <td>142812.0</td>\n",
       "      <td>84387.0</td>\n",
       "      <td>2921.83</td>\n",
       "    </tr>\n",
       "    <tr>\n",
       "      <th>1411093</th>\n",
       "      <td>11912309</td>\n",
       "      <td>0.000305</td>\n",
       "      <td>1801.0</td>\n",
       "      <td>139.0</td>\n",
       "      <td>55894.0</td>\n",
       "      <td>955.98</td>\n",
       "    </tr>\n",
       "    <tr>\n",
       "      <th>2086918</th>\n",
       "      <td>11638291</td>\n",
       "      <td>-0.022991</td>\n",
       "      <td>1955.0</td>\n",
       "      <td>2284475.0</td>\n",
       "      <td>745604.0</td>\n",
       "      <td>1765815.87</td>\n",
       "    </tr>\n",
       "  </tbody>\n",
       "</table>\n",
       "</div>"
      ],
      "text/plain": [
       "         parcelid     score  yearbuilt  structuretaxvaluedollarcnt  \\\n",
       "1353114  11911525  0.004201     1801.0                    471167.0   \n",
       "1033481  11765988  0.003606     1808.0                    131562.0   \n",
       "1840632  12560874  0.003466     1806.0                     54382.0   \n",
       "64742    12360654  0.003396     1808.0                     10950.0   \n",
       "1486147  12554225  0.003072     1807.0                     19685.0   \n",
       "1414893  12879853  0.002841     1805.0                    108225.0   \n",
       "2454028  11911158  0.001580     1801.0                    129353.0   \n",
       "1949519  12450176  0.001008     1802.0                    142812.0   \n",
       "1411093  11912309  0.000305     1801.0                       139.0   \n",
       "2086918  11638291 -0.022991     1955.0                   2284475.0   \n",
       "\n",
       "         landtaxvaluedollarcnt   taxamount  \n",
       "1353114               707269.0    15682.27  \n",
       "1033481                50710.0     2277.20  \n",
       "1840632               202031.0     3883.01  \n",
       "64742                  29799.0     1122.88  \n",
       "1486147                48184.0      909.47  \n",
       "1414893               164500.0     3562.94  \n",
       "2454028               272611.0     5658.76  \n",
       "1949519                84387.0     2921.83  \n",
       "1411093                55894.0      955.98  \n",
       "2086918               745604.0  1765815.87  "
      ]
     },
     "execution_count": 51,
     "metadata": {},
     "output_type": "execute_result"
    }
   ],
   "source": [
    "desire.tail(10)"
   ]
  },
  {
   "cell_type": "markdown",
   "metadata": {},
   "source": [
    "#### Analysis of the last 10 houses.\n",
    "\n",
    "One thing common to all these houses is that they're very old houses and not in good locations i.e. **land tax value and the year built is low.** Also, these buildings are not well and hence they have **low structure tax value**."
   ]
  },
  {
   "cell_type": "markdown",
   "metadata": {},
   "source": [
    "#### Task 2: \n",
    "Define a house “pairwise distance function”, which measures the similarity of two properties.  Like a distance metric, similar pairs of very similar properties should be distance near zero, with distance increasing as the properties grow more dissimilar.  Experiment with your distance function, and write a one page discussion evaluating how well you think it worked.   Your function should include geographic as well as property-specific variables.\n",
    "\n",
    "##### Distance Function: Weighted Eucledian Distance\n",
    "We've decided to calculate the distance between two properties based on **Important features which affect the logerror.** So, suppose we've top **k** features which affect the prediction of logerror the most, we'll use these features to calculate and cluster the houses based on **how well they can predict the logerror.** \n",
    "\n",
    "Assuming we've the weights of these **k** features, we can use these weights in our distance function. So, **nearer the houses, closer they're in predicting the logerror.**\n",
    "\n",
    "##### The task of feature selection (Experimenting with the Distance Function)\n",
    "For finding the features which affect the logerror the most, we'll run **Feature Selection** methods like **Lasso, Linear Regression and Random Forest** to predict the top 10 features which can effectively predict the logerror.\n"
   ]
  },
  {
   "cell_type": "markdown",
   "metadata": {},
   "source": [
    "We will start off by reading the data files. This time, we read all the features from the data file."
   ]
  },
  {
   "cell_type": "code",
   "execution_count": 3,
   "metadata": {},
   "outputs": [],
   "source": [
    "# Read the training and the properties files\n",
    "train_2016 = pd.read_csv('data/train_2016_v2.csv')"
   ]
  },
  {
   "cell_type": "code",
   "execution_count": 4,
   "metadata": {},
   "outputs": [],
   "source": [
    "properties_2016 = pd.read_csv('data/properties_2016.csv')"
   ]
  },
  {
   "cell_type": "code",
   "execution_count": 5,
   "metadata": {},
   "outputs": [],
   "source": [
    "train_2017 = pd.read_csv('data/train_2017.csv')"
   ]
  },
  {
   "cell_type": "code",
   "execution_count": 6,
   "metadata": {},
   "outputs": [],
   "source": [
    "properties_2017 = pd.read_csv('data/properties_2017.csv')"
   ]
  },
  {
   "cell_type": "markdown",
   "metadata": {},
   "source": [
    "We create a variable of column names to pass to above functions."
   ]
  },
  {
   "cell_type": "code",
   "execution_count": 11,
   "metadata": {},
   "outputs": [],
   "source": [
    " colnames = ['airconditioningtypeid','architecturalstyletypeid','basementsqft',\n",
    "             'bathroomcnt','bedroomcnt','buildingqualitytypeid','buildingclasstypeid',\n",
    "             'calculatedbathnbr','decktypeid','threequarterbathnbr','finishedfloor1squarefeet',\n",
    "             'calculatedfinishedsquarefeet','finishedsquarefeet6','finishedsquarefeet12',\n",
    "             'finishedsquarefeet13','finishedsquarefeet15','finishedsquarefeet50',\n",
    "             'fireplacecnt','fireplaceflag','fullbathcnt','garagecarcnt','garagetotalsqft',\n",
    "             'hashottuborspa','heatingorsystemtypeid','lotsizesquarefeet',\n",
    "             'numberofstories','poolcnt','poolsizesum','pooltypeid10','pooltypeid2',\n",
    "             'pooltypeid7','regionidcounty','regionidcity','regionidzip',\n",
    "             'regionidneighborhood','roomcnt','storytypeid','typeconstructiontypeid',\n",
    "             'unitcnt','yardbuildingsqft17','yardbuildingsqft26','yearbuilt','taxvaluedollarcnt',\n",
    "             'structuretaxvaluedollarcnt','landtaxvaluedollarcnt','taxamount','assessmentyear']"
   ]
  },
  {
   "cell_type": "markdown",
   "metadata": {},
   "source": [
    "##### Reducing the size of the dataframes\n",
    "Because these data frames are too large, we can try to reduce the data frame size so that we can free up some space in the RAM. [Source: https://www.kaggle.com/zakuka/dataframe-memory-use-reduction"
   ]
  },
  {
   "cell_type": "code",
   "execution_count": 7,
   "metadata": {},
   "outputs": [],
   "source": [
    "'''\n",
    "get_min_memory_type find the minimum data type that can store all the data in a column and\n",
    "assigns that data type to that column instead of Float_64.\n",
    "\n",
    "'''\n",
    "def get_min_memory_type(colobj, verbose=0):\n",
    "    orig_type = colobj.dtype\n",
    "    new_types = [\"uint8\", \"int8\", \"uint16\", \"int16\", 'float16', \"uint32\", \"int32\", 'float32']\n",
    "    if (orig_type not in new_types and orig_type not in [\"int64\", \"uint64\", \"float64\"]):\n",
    "        if (verbose > 0):\n",
    "            print(\"Type {} of column {} is unsupported\".format(orig_type, colobj.name))\n",
    "        return orig_type\n",
    "\n",
    "    for new_type in new_types:\n",
    "        yes_min = colobj.min() == colobj.min().astype(new_type).astype(orig_type)\n",
    "        yes_max = colobj.max() == colobj.max().astype(new_type).astype(orig_type)\n",
    "        if (yes_min and yes_max):\n",
    "            return new_type\n",
    "\n",
    "    if (verbose > 0):\n",
    "        print(\"No optimisation found for {} column of {} type\".format(colobj.name, orig_type))\n",
    "    return orig_type\n"
   ]
  },
  {
   "cell_type": "markdown",
   "metadata": {},
   "source": [
    "Now we can go through all the columns of the data set and assign them the minimum data type that can accomodate all the data in that column without loosing data."
   ]
  },
  {
   "cell_type": "code",
   "execution_count": 9,
   "metadata": {},
   "outputs": [],
   "source": [
    "'''\n",
    "reduce_mem_usage goes through all the columns of the dataset and assigns each column the minimum data\n",
    "type possible. \n",
    "exclude -> the columns to exclude from the data frame\n",
    "verbose -> whether or not to print the data while minimizing\n",
    "'''\n",
    "\n",
    "def reduce_mem_usage(df, exclude=[], verbose=0):\n",
    "    start_mem_usg = df.memory_usage().sum() / 1024 ** 2\n",
    "    if (verbose > 0):\n",
    "        print(\"Memory usage before :\", start_mem_usg, \" MB\")\n",
    "\n",
    "    for colname in df.columns:\n",
    "        if (colname not in exclude):\n",
    "            colobj = getattr(df, colname)\n",
    "            new_type = get_min_memory_type(colobj, verbose)\n",
    "            if (new_type != colobj.dtype):\n",
    "                if (verbose > 0):\n",
    "                    print(\"Converting {} column from {} to {}\".format(colname, colobj.dtype, new_type))\n",
    "                df[colname] = df[colname].astype(new_type)\n",
    "\n",
    "    end_mem_usg = df.memory_usage().sum() / 1024 ** 2\n",
    "\n",
    "    if (verbose > 0):\n",
    "        print(\"Memory usage after :\", end_mem_usg, \" MB\")\n",
    "\n",
    "    mem_usg_diff_prc = float((end_mem_usg - start_mem_usg)) * 100 / start_mem_usg\n",
    "\n",
    "    if (verbose > 0):\n",
    "        if (end_mem_usg < start_mem_usg):\n",
    "            print(\"Memory gain: {0:0.2f}%\".format(-mem_usg_diff_prc))\n",
    "        else:\n",
    "            print(\"Memory loss: {0:0.2f}%\".format(mem_usg_diff_prc))\n",
    "\n",
    "    return -mem_usg_diff_prc"
   ]
  },
  {
   "cell_type": "markdown",
   "metadata": {},
   "source": [
    "The above functions can work for only the dataframes without Nan's. So we write the function to replace the Nan's with the means.\n",
    "##### Replacing the Nan's with Means\n",
    "We prefer replacing the Nan's with the means because while normalizing the data, the values with means become **zero.** Hence, they don't contribute in training and we can train our model only on real data values."
   ]
  },
  {
   "cell_type": "code",
   "execution_count": 9,
   "metadata": {},
   "outputs": [],
   "source": [
    "def fillna_mean(df, cols):\n",
    "    for col in cols:\n",
    "        mean_values = df[[col]].mean(axis=0)\n",
    "        df[col].fillna(mean_values[col], inplace=True)"
   ]
  },
  {
   "cell_type": "markdown",
   "metadata": {},
   "source": [
    "Now we should replace the Nan's in our data with the means so that we can reduce the size of the dataframes."
   ]
  },
  {
   "cell_type": "code",
   "execution_count": 12,
   "metadata": {},
   "outputs": [],
   "source": [
    "fillna_mean(properties_2016, colnames)\n",
    "fillna_mean(properties_2017, colnames)"
   ]
  },
  {
   "cell_type": "markdown",
   "metadata": {},
   "source": [
    "After replacing the Nan's with the mean of each column, we're all set to reduce the size of the dataframe.\n",
    "We go through each column and find what is the minimum data type that can accomodate all the data in that column.\n",
    "After deciding upon the minimum data type, we assign that column that data type.\n",
    "The output of the **reduce_mem_usage** shows by what percent the size has been reduced for the dataframe."
   ]
  },
  {
   "cell_type": "code",
   "execution_count": 13,
   "metadata": {},
   "outputs": [
    {
     "data": {
      "text/plain": [
       "69.946803525306038"
      ]
     },
     "execution_count": 13,
     "metadata": {},
     "output_type": "execute_result"
    }
   ],
   "source": [
    "reduce_mem_usage(properties_2016[colnames],[],0)"
   ]
  },
  {
   "cell_type": "code",
   "execution_count": 14,
   "metadata": {},
   "outputs": [
    {
     "data": {
      "text/plain": [
       "69.946803525306038"
      ]
     },
     "execution_count": 14,
     "metadata": {},
     "output_type": "execute_result"
    }
   ],
   "source": [
    "reduce_mem_usage(properties_2017[colnames],[],0)"
   ]
  },
  {
   "cell_type": "markdown",
   "metadata": {},
   "source": [
    "After reducing the size of the dataframes, we can continue with the Feature selection task. \n",
    "Because the Kaggle data now includes the properties from **2016** and from **2017,** so we've decided to create four files combining the logerrors and the properties i.e.\n",
    "\n",
    "- Properties of 2016 combined with the logerrors of 2017\n",
    "- Properties of 2016 combined with the logerrors of 2016\n",
    "- Properties of 2017 combined with the logerrors of 2017\n",
    "- Properties of 2017 combined with the logerrors of 2016"
   ]
  },
  {
   "cell_type": "code",
   "execution_count": 15,
   "metadata": {},
   "outputs": [],
   "source": [
    "prop16_train16 = pd.merge(train_2016,properties_2016, on='parcelid', how='left')\n",
    "prop16_train17 = pd.merge(train_2017,properties_2016, on='parcelid', how='left')\n",
    "prop17_train16 = pd.merge(train_2016,properties_2017, on='parcelid', how='left')\n",
    "prop17_train17 = pd.merge(train_2017,properties_2017, on='parcelid', how='left')"
   ]
  },
  {
   "cell_type": "markdown",
   "metadata": {},
   "source": [
    "After combining the data, we should normalize the dataframes. For this part, we can take note of the fields which are not **id type fields.** We don't normalize the 'id' type fields."
   ]
  },
  {
   "cell_type": "code",
   "execution_count": 16,
   "metadata": {},
   "outputs": [],
   "source": [
    "fields = ['basementsqft','bathroomcnt','bedroomcnt','calculatedbathnbr','threequarterbathnbr',\n",
    "          'finishedfloor1squarefeet','calculatedfinishedsquarefeet','finishedsquarefeet6',\n",
    "          'finishedsquarefeet12','finishedsquarefeet13','finishedsquarefeet15','finishedsquarefeet50',\n",
    "          'fireplacecnt','fullbathcnt','garagecarcnt','garagetotalsqft','lotsizesquarefeet',\n",
    "          'numberofstories','poolcnt','poolsizesum','roomcnt','unitcnt','yardbuildingsqft17',\n",
    "          'yardbuildingsqft26','taxvaluedollarcnt','structuretaxvaluedollarcnt','landtaxvaluedollarcnt',\n",
    "          'taxamount']"
   ]
  },
  {
   "cell_type": "markdown",
   "metadata": {},
   "source": [
    "Now we can normalize the dataframes."
   ]
  },
  {
   "cell_type": "code",
   "execution_count": 19,
   "metadata": {},
   "outputs": [],
   "source": [
    "prop16_train16[fields] = min_max_scalar.fit_transform(prop16_train16[fields])"
   ]
  },
  {
   "cell_type": "code",
   "execution_count": 20,
   "metadata": {},
   "outputs": [],
   "source": [
    "prop16_train17[fields] = min_max_scalar.fit_transform(prop16_train17[fields])"
   ]
  },
  {
   "cell_type": "code",
   "execution_count": 21,
   "metadata": {},
   "outputs": [],
   "source": [
    "prop17_train16[fields] = min_max_scalar.fit_transform(prop17_train16[fields])"
   ]
  },
  {
   "cell_type": "code",
   "execution_count": 22,
   "metadata": {},
   "outputs": [],
   "source": [
    "prop17_train17[fields] = min_max_scalar.fit_transform(prop17_train17[fields])"
   ]
  },
  {
   "cell_type": "markdown",
   "metadata": {},
   "source": [
    "##### Seperating the training and testing files\n",
    "For seperating the training and testing parts from the files, we've used **10 percent** of the rows from each of the four created training datasets for testing. "
   ]
  },
  {
   "cell_type": "code",
   "execution_count": 33,
   "metadata": {},
   "outputs": [],
   "source": [
    "test1 = prop16_train16.iloc[0:9000]\n",
    "test2 = prop16_train17.iloc[7000:14000]\n",
    "test3 = prop17_train16.iloc[18000:27000]\n",
    "test4 = prop17_train17.iloc[21000:28000]"
   ]
  },
  {
   "cell_type": "markdown",
   "metadata": {},
   "source": [
    "Dropping the testing portion from the trainin datasets."
   ]
  },
  {
   "cell_type": "code",
   "execution_count": 34,
   "metadata": {},
   "outputs": [],
   "source": [
    "train1 = prop16_train16.drop(prop16_train16.index[0:9000])\n",
    "train2 = prop16_train17.drop(prop16_train17.index[7000:14000])\n",
    "train3 = prop17_train16.drop(prop17_train16.index[18000:27000])\n",
    "train4 = prop17_train17.drop(prop17_train17.index[21000:28000])"
   ]
  },
  {
   "cell_type": "markdown",
   "metadata": {},
   "source": [
    "Before perming the feature selection algorithms, we've to filter our dataframes to only contain numbers. \n",
    "Hence, we should drop the fields that contain objects or not useful data for training."
   ]
  },
  {
   "cell_type": "code",
   "execution_count": 35,
   "metadata": {},
   "outputs": [],
   "source": [
    "drop_cols = ['parcelid', 'transactiondate', 'propertyzoningdesc', \n",
    "             'propertycountylandusecode','taxdelinquencyflag','taxdelinquencyyear',\n",
    "             'censustractandblock']"
   ]
  },
  {
   "cell_type": "code",
   "execution_count": 147,
   "metadata": {},
   "outputs": [],
   "source": [
    "x_train1 = train1.drop(drop_cols, axis=1)\n",
    "x_train2 = train2.drop(drop_cols, axis=1)\n",
    "x_train3 = train3.drop(drop_cols, axis=1)\n",
    "x_train4 = train4.drop(drop_cols, axis=1)"
   ]
  },
  {
   "cell_type": "markdown",
   "metadata": {},
   "source": [
    "Preparing the data for training. Converting the dataframes to numpy matrices dropping the rows that contain Nan values."
   ]
  },
  {
   "cell_type": "code",
   "execution_count": 27,
   "metadata": {},
   "outputs": [],
   "source": [
    "x_train1 = x_train1.dropna(axis=0, how='any')\n",
    "x_train2 = x_train2.dropna(axis=0, how='any')\n",
    "x_train3 = x_train3.dropna(axis=0, how='any')\n",
    "x_train4 = x_train4.dropna(axis=0, how='any')"
   ]
  },
  {
   "cell_type": "markdown",
   "metadata": {},
   "source": [
    "Seperating the features from logerrors."
   ]
  },
  {
   "cell_type": "code",
   "execution_count": 28,
   "metadata": {},
   "outputs": [],
   "source": [
    "Y1 = x_train1['logerror'].values\n",
    "Y2 = x_train2['logerror'].values\n",
    "Y3 = x_train3['logerror'].values\n",
    "Y4 = x_train4['logerror'].values"
   ]
  },
  {
   "cell_type": "code",
   "execution_count": 29,
   "metadata": {},
   "outputs": [],
   "source": [
    "x_train1 = x_train1.drop(['logerror'], axis=1)\n",
    "x_train2 = x_train2.drop(['logerror'], axis=1)\n",
    "x_train3 = x_train3.drop(['logerror'], axis=1)\n",
    "x_train4 = x_train4.drop(['logerror'], axis=1)"
   ]
  },
  {
   "cell_type": "markdown",
   "metadata": {},
   "source": [
    "**X1, X2, X3, X4** are the four matrices we will use for feature selection. Similarly, **Y1, Y2, Y3, Y4** are the corresponding logerror values."
   ]
  },
  {
   "cell_type": "code",
   "execution_count": 30,
   "metadata": {},
   "outputs": [],
   "source": [
    "X1 = x_train1.as_matrix()\n",
    "X2 = x_train2.as_matrix()\n",
    "X3 = x_train3.as_matrix()\n",
    "X4 = x_train4.as_matrix()"
   ]
  },
  {
   "cell_type": "markdown",
   "metadata": {},
   "source": [
    "Creating a features of columns to rank"
   ]
  },
  {
   "cell_type": "code",
   "execution_count": 31,
   "metadata": {},
   "outputs": [],
   "source": [
    "colnames = x_train1.columns"
   ]
  },
  {
   "cell_type": "markdown",
   "metadata": {},
   "source": [
    "Now we define a **Ranks** dictionary that'll computer the average score of all the features generated from all the feature selection algorithms it goes through. We can use this ranking function to computer the ranking based on the scores generated by the Feature selection algorithms."
   ]
  },
  {
   "cell_type": "code",
   "execution_count": 32,
   "metadata": {},
   "outputs": [],
   "source": [
    "ranks = {}\n",
    "def ranking(ranks, names, order=1):\n",
    "    minmax = MinMaxScaler()\n",
    "    ranks = minmax.fit_transform(order*np.array([ranks]).T).T[0]\n",
    "    ranks = map(lambda x: round(x,2), ranks)\n",
    "    return dict(zip(names, ranks))"
   ]
  },
  {
   "cell_type": "markdown",
   "metadata": {},
   "source": [
    "After we've filtered the data, we're now ready to pass the data through the feature selection models. First we use **Linear regression for feature selection.** Linear regression recursively goes through all the features one by one and gives weight to that feature. After we've weights for each feature, we get a ranking of the features based on how effective they are in predicting the Logerror."
   ]
  },
  {
   "cell_type": "code",
   "execution_count": 22,
   "metadata": {},
   "outputs": [],
   "source": [
    "import numpy as np\n",
    "from sklearn.linear_model import LinearRegression"
   ]
  },
  {
   "cell_type": "markdown",
   "metadata": {},
   "source": [
    "Find the Linear regression prediction for all the four training files."
   ]
  },
  {
   "cell_type": "code",
   "execution_count": 36,
   "metadata": {},
   "outputs": [],
   "source": [
    "# Using Linear Regression\n",
    "lr = LinearRegression()\n",
    "lr.fit(X1,Y1)\n",
    "ranks[\"LinReg1\"] = ranking(np.abs(lr.coef_), colnames)\n",
    "lr.fit(X2,Y2)\n",
    "ranks[\"LinReg2\"] = ranking(np.abs(lr.coef_), colnames)\n",
    "lr.fit(X3,Y3)\n",
    "ranks[\"LinReg3\"] = ranking(np.abs(lr.coef_), colnames)\n",
    "lr.fit(X4,Y4)\n",
    "ranks[\"LinReg4\"] = ranking(np.abs(lr.coef_), colnames)"
   ]
  },
  {
   "cell_type": "markdown",
   "metadata": {},
   "source": [
    "After we've the ranking from Linear Regression, we apply another feature selection algorithm: **The Ridge Regression.** The ridge regression works for the cases when there is multicollinearity between the features."
   ]
  },
  {
   "cell_type": "code",
   "execution_count": 38,
   "metadata": {},
   "outputs": [],
   "source": [
    "from sklearn.linear_model import Ridge"
   ]
  },
  {
   "cell_type": "code",
   "execution_count": 39,
   "metadata": {},
   "outputs": [],
   "source": [
    "# Using Ridge \n",
    "ridge = Ridge(alpha = 7)\n",
    "ridge.fit(X1,Y1)\n",
    "ranks['Ridge1'] = ranking(np.abs(ridge.coef_), colnames)\n",
    "ridge.fit(X2,Y2)\n",
    "ranks['Ridge2'] = ranking(np.abs(ridge.coef_), colnames)\n",
    "ridge.fit(X3,Y3)\n",
    "ranks['Ridge3'] = ranking(np.abs(ridge.coef_), colnames)\n",
    "ridge.fit(X4,Y4)\n",
    "ranks['Ridge4'] = ranking(np.abs(ridge.coef_), colnames)"
   ]
  },
  {
   "cell_type": "markdown",
   "metadata": {},
   "source": [
    "After Computing the ranking for all the features, we create an empty dictionary and use it to store the average ranking for each feature."
   ]
  },
  {
   "cell_type": "code",
   "execution_count": 43,
   "metadata": {},
   "outputs": [],
   "source": [
    "# Create empty dictionary to store the mean value calculated from all the scores\n",
    "r = {}\n",
    "for name in colnames:\n",
    "    r[name] = round(np.mean([ranks[method][name] \n",
    "                              for method in ranks.keys()]), 2)\n",
    "\n",
    "methods = sorted(ranks.keys())\n",
    "ranks[\"Mean\"] = r\n",
    "methods.append(\"Mean\")"
   ]
  },
  {
   "cell_type": "markdown",
   "metadata": {},
   "source": [
    "Now we'll put all the ranking values into a pandas dataframe and sort it to find the top 10 best features to predict the logerror."
   ]
  },
  {
   "cell_type": "code",
   "execution_count": 44,
   "metadata": {},
   "outputs": [],
   "source": [
    "# Put the mean scores into a Pandas dataframe\n",
    "meanplot = pd.DataFrame(list(r.items()), columns= ['Feature','Mean Ranking'])\n",
    "# Sort the dataframe\n",
    "meanplot = meanplot.sort_values('Mean Ranking', ascending=False)"
   ]
  },
  {
   "cell_type": "code",
   "execution_count": 46,
   "metadata": {},
   "outputs": [
    {
     "data": {
      "text/html": [
       "<div>\n",
       "<style>\n",
       "    .dataframe thead tr:only-child th {\n",
       "        text-align: right;\n",
       "    }\n",
       "\n",
       "    .dataframe thead th {\n",
       "        text-align: left;\n",
       "    }\n",
       "\n",
       "    .dataframe tbody tr th {\n",
       "        vertical-align: top;\n",
       "    }\n",
       "</style>\n",
       "<table border=\"1\" class=\"dataframe\">\n",
       "  <thead>\n",
       "    <tr style=\"text-align: right;\">\n",
       "      <th></th>\n",
       "      <th>Feature</th>\n",
       "      <th>Mean Ranking</th>\n",
       "    </tr>\n",
       "  </thead>\n",
       "  <tbody>\n",
       "    <tr>\n",
       "      <th>26</th>\n",
       "      <td>taxvaluedollarcnt</td>\n",
       "      <td>0.47</td>\n",
       "    </tr>\n",
       "    <tr>\n",
       "      <th>44</th>\n",
       "      <td>landtaxvaluedollarcnt</td>\n",
       "      <td>0.42</td>\n",
       "    </tr>\n",
       "    <tr>\n",
       "      <th>25</th>\n",
       "      <td>structuretaxvaluedollarcnt</td>\n",
       "      <td>0.34</td>\n",
       "    </tr>\n",
       "    <tr>\n",
       "      <th>48</th>\n",
       "      <td>finishedsquarefeet12</td>\n",
       "      <td>0.31</td>\n",
       "    </tr>\n",
       "    <tr>\n",
       "      <th>36</th>\n",
       "      <td>taxamount</td>\n",
       "      <td>0.29</td>\n",
       "    </tr>\n",
       "    <tr>\n",
       "      <th>49</th>\n",
       "      <td>regionidcounty</td>\n",
       "      <td>0.25</td>\n",
       "    </tr>\n",
       "    <tr>\n",
       "      <th>3</th>\n",
       "      <td>calculatedfinishedsquarefeet</td>\n",
       "      <td>0.21</td>\n",
       "    </tr>\n",
       "    <tr>\n",
       "      <th>34</th>\n",
       "      <td>lotsizesquarefeet</td>\n",
       "      <td>0.19</td>\n",
       "    </tr>\n",
       "    <tr>\n",
       "      <th>30</th>\n",
       "      <td>yearbuilt</td>\n",
       "      <td>0.17</td>\n",
       "    </tr>\n",
       "    <tr>\n",
       "      <th>4</th>\n",
       "      <td>regionidzip</td>\n",
       "      <td>0.13</td>\n",
       "    </tr>\n",
       "  </tbody>\n",
       "</table>\n",
       "</div>"
      ],
      "text/plain": [
       "                         Feature  Mean Ranking\n",
       "26             taxvaluedollarcnt          0.47\n",
       "44         landtaxvaluedollarcnt          0.42\n",
       "25    structuretaxvaluedollarcnt          0.34\n",
       "48          finishedsquarefeet12          0.31\n",
       "36                     taxamount          0.29\n",
       "49                regionidcounty          0.25\n",
       "3   calculatedfinishedsquarefeet          0.21\n",
       "34             lotsizesquarefeet          0.19\n",
       "30                     yearbuilt          0.17\n",
       "4                    regionidzip          0.13"
      ]
     },
     "execution_count": 46,
     "metadata": {},
     "output_type": "execute_result"
    }
   ],
   "source": [
    "meanplot.head(10)"
   ]
  },
  {
   "cell_type": "markdown",
   "metadata": {},
   "source": [
    "So here are the top 10 features which help the most in predicting the logerrors. Most features are related to tax values. So, now we'll only work with these features combined with **latitudes and longitudes** for the further work."
   ]
  },
  {
   "cell_type": "code",
   "execution_count": 219,
   "metadata": {},
   "outputs": [],
   "source": [
    "cols_prop = ['taxvaluedollarcnt','landtaxvaluedollarcnt','structuretaxvaluedollarcnt','finishedsquarefeet12',\n",
    "              'taxamount','calculatedfinishedsquarefeet','lotsizesquarefeet','bathroomcnt','latitude',\n",
    "             'longitude','parcelid']"
   ]
  },
  {
   "cell_type": "markdown",
   "metadata": {},
   "source": [
    "We will also store the **weights** for these features to calculate the **Distance Vector Matrix.** For simplicity, we assume the weight of each factor to be the **average ranking** for that vector generated by feature prediction models."
   ]
  },
  {
   "cell_type": "code",
   "execution_count": 220,
   "metadata": {},
   "outputs": [],
   "source": [
    "weights = [0.47,0.42,0.35,0.31,0.29,0.21,0.19,0.12,0.08,0.08]"
   ]
  },
  {
   "cell_type": "markdown",
   "metadata": {},
   "source": [
    "Because now we've only a particular columns to read, we can read the properties files and train files with only the given columns."
   ]
  },
  {
   "cell_type": "code",
   "execution_count": 221,
   "metadata": {},
   "outputs": [],
   "source": [
    "prop_2016 = pd.read_csv('data/properties_2016.csv', usecols=cols_prop)"
   ]
  },
  {
   "cell_type": "code",
   "execution_count": 222,
   "metadata": {},
   "outputs": [],
   "source": [
    "prop_2017 = pd.read_csv('data/properties_2017.csv', usecols=cols_prop)"
   ]
  },
  {
   "cell_type": "code",
   "execution_count": 223,
   "metadata": {},
   "outputs": [],
   "source": [
    "train_2016 = pd.read_csv('data/train_2016_v2.csv', usecols=['logerror', 'parcelid'])"
   ]
  },
  {
   "cell_type": "code",
   "execution_count": 224,
   "metadata": {},
   "outputs": [],
   "source": [
    "train_2017 = pd.read_csv('data/train_2017.csv', usecols=['logerror', 'parcelid'])"
   ]
  },
  {
   "cell_type": "markdown",
   "metadata": {},
   "source": [
    "Filling the Nan's with the means."
   ]
  },
  {
   "cell_type": "code",
   "execution_count": 225,
   "metadata": {},
   "outputs": [],
   "source": [
    "fillna_mean(prop_2016, cols_prop)\n",
    "fillna_mean(prop_2017, cols_prop)"
   ]
  },
  {
   "cell_type": "markdown",
   "metadata": {},
   "source": [
    "Now we've to merge the logerros with the above data."
   ]
  },
  {
   "cell_type": "code",
   "execution_count": 226,
   "metadata": {},
   "outputs": [],
   "source": [
    "cols_prop.append('logerror')"
   ]
  },
  {
   "cell_type": "markdown",
   "metadata": {},
   "source": [
    "Just like in the Feature Selection part, we will have total 4 combinations of training and properties data when we include 2016 and 2017 data."
   ]
  },
  {
   "cell_type": "code",
   "execution_count": 227,
   "metadata": {},
   "outputs": [],
   "source": [
    "prop16_train16 = pd.merge(train_2016,prop_2016, on='parcelid', how='left')\n",
    "prop16_train17 = pd.merge(train_2017,prop_2016, on='parcelid', how='left')\n",
    "prop17_train16 = pd.merge(train_2016,prop_2017, on='parcelid', how='left')\n",
    "prop17_train17 = pd.merge(train_2017,prop_2017, on='parcelid', how='left')"
   ]
  },
  {
   "cell_type": "markdown",
   "metadata": {},
   "source": [
    "Normalizing the data before working on the distance matrix."
   ]
  },
  {
   "cell_type": "code",
   "execution_count": 228,
   "metadata": {},
   "outputs": [],
   "source": [
    "from sklearn.preprocessing import MinMaxScaler\n",
    "min_max_scalar = MinMaxScaler()\n",
    "prop16_train16[cols_prop] = min_max_scalar.fit_transform(prop16_train16[cols_prop])\n",
    "prop16_train17[cols_prop] = min_max_scalar.fit_transform(prop16_train17[cols_prop])\n",
    "prop17_train16[cols_prop] = min_max_scalar.fit_transform(prop17_train16[cols_prop])\n",
    "prop17_train17[cols_prop] = min_max_scalar.fit_transform(prop17_train17[cols_prop])"
   ]
  },
  {
   "cell_type": "markdown",
   "metadata": {},
   "source": [
    "As we've our data ready, before working on the distance matrix, we can seperate the training and testing data."
   ]
  },
  {
   "cell_type": "code",
   "execution_count": 229,
   "metadata": {},
   "outputs": [],
   "source": [
    "test1 = prop16_train16.iloc[9000:18000]\n",
    "test2 = prop16_train17.iloc[7000:14000]\n",
    "test3 = prop17_train16.iloc[18000:27000]\n",
    "test4 = prop17_train17.iloc[21000:28000]"
   ]
  },
  {
   "cell_type": "code",
   "execution_count": 230,
   "metadata": {},
   "outputs": [],
   "source": [
    "train1 = prop16_train16.drop(prop16_train16.index[9000:18000])\n",
    "train2 = prop16_train17.drop(prop16_train17.index[7000:14000])\n",
    "train3 = prop17_train16.drop(prop17_train16.index[18000:27000])\n",
    "train4 = prop17_train17.drop(prop17_train17.index[21000:28000])"
   ]
  },
  {
   "cell_type": "markdown",
   "metadata": {},
   "source": [
    "We've removed **10 percent** data from training set to create the testing set. Now we can drop the remaining Nan values."
   ]
  },
  {
   "cell_type": "code",
   "execution_count": 231,
   "metadata": {},
   "outputs": [],
   "source": [
    "x_train1 = train1.drop('parcelid', axis=1)\n",
    "x_train2 = train2.drop('parcelid', axis=1)\n",
    "x_train3 = train3.drop('parcelid', axis=1)\n",
    "x_train4 = train4.drop('parcelid', axis=1)"
   ]
  },
  {
   "cell_type": "code",
   "execution_count": 232,
   "metadata": {},
   "outputs": [],
   "source": [
    "x_train1 = x_train1.dropna(axis=0, how='any')\n",
    "x_train2 = x_train2.dropna(axis=0, how='any')\n",
    "x_train3 = x_train3.dropna(axis=0, how='any')\n",
    "x_train4 = x_train4.dropna(axis=0, how='any')"
   ]
  },
  {
   "cell_type": "markdown",
   "metadata": {},
   "source": [
    "Now, we can seperate the training and testing portions of the files and store them as matrices."
   ]
  },
  {
   "cell_type": "code",
   "execution_count": 233,
   "metadata": {},
   "outputs": [],
   "source": [
    "Y1 = x_train1['logerror'].values\n",
    "Y2 = x_train2['logerror'].values\n",
    "Y3 = x_train3['logerror'].values\n",
    "Y4 = x_train4['logerror'].values"
   ]
  },
  {
   "cell_type": "code",
   "execution_count": 234,
   "metadata": {},
   "outputs": [],
   "source": [
    "X1 = x_train1.drop(['logerror'], axis=1).as_matrix()\n",
    "X2 = x_train2.drop(['logerror'], axis=1).as_matrix()\n",
    "X3 = x_train3.drop(['logerror'], axis=1).as_matrix()\n",
    "X4 = x_train4.drop(['logerror'], axis=1).as_matrix()"
   ]
  },
  {
   "cell_type": "markdown",
   "metadata": {},
   "source": [
    "For simplicity, because now the data we've isn't very large, we can combine all the four training and testing set into one matrix for **X and Y.**"
   ]
  },
  {
   "cell_type": "code",
   "execution_count": 235,
   "metadata": {},
   "outputs": [],
   "source": [
    "import numpy as np\n",
    "X = np.concatenate((X1,X2,X3,X4), axis=0)\n",
    "Y = np.concatenate((Y1,Y2,Y3,Y4), axis=0)"
   ]
  },
  {
   "cell_type": "markdown",
   "metadata": {},
   "source": [
    "##### Function to calculate the pairwise distance\n",
    "For calculating the pairwise distance, we are using weighted Eucledian Function to calculate the distance between the features pointed by the Feature selection methods.\n",
    "\n",
    "The Formula for calculating the pairwise distance is given by: \n",
    "Assuming we've two features **A and B** with weights $W_1$ and $W_2$ and we're calculating pairwise distance between points **1 and 2.**\n",
    "\n",
    "$dist = \\sqrt{W_1(1_A-2_A)^2 + W_2(1_B-2_B)^2}$"
   ]
  },
  {
   "cell_type": "code",
   "execution_count": 60,
   "metadata": {},
   "outputs": [],
   "source": [
    "from sklearn.neighbors import DistanceMetric\n",
    "dist = DistanceMetric.get_metric('wminkowski',p=2,w=weights)\n",
    "Dist_matrix = dist.pairwise(X[0:500,:])"
   ]
  },
  {
   "cell_type": "markdown",
   "metadata": {},
   "source": [
    "##### Evaluating the Distance Function\n",
    "For Evaluation, we will find out the pairs of houses with minimum distance between them and analyze their properties.\n",
    "We can find the indices of 5 least occuring and highest occuring values in the Distance Matrix as"
   ]
  },
  {
   "cell_type": "code",
   "execution_count": 61,
   "metadata": {},
   "outputs": [],
   "source": [
    "def nlargest_indices(arr, n):\n",
    "    uniques = np.unique(arr)\n",
    "    threshold = uniques[-n]\n",
    "    return np.where(arr >= threshold)\n",
    "\n",
    "def nlowest_indices(arr, n):\n",
    "    uniques = np.unique(arr)\n",
    "    threshold = uniques[-n]\n",
    "    return np.where(arr <= threshold)"
   ]
  },
  {
   "cell_type": "code",
   "execution_count": 62,
   "metadata": {},
   "outputs": [],
   "source": [
    "xlow, ylow = nlowest_indices(Dist_matrix, 5)\n",
    "xhigh, yhigh = nlargest_indices(Dist_matrix, 5)"
   ]
  },
  {
   "cell_type": "markdown",
   "metadata": {},
   "source": [
    "After obtaining the indices of the highest and lowest values in the Distance Matrix, we find the indices of the lowest and highest occuring values as:\n",
    "\n",
    "[xLow, yLow] = [**(0,1)**,(0,2),(499,497)]\n",
    "\n",
    "[xHigh, yHigh] = [**(112,136)**,(136,253),(136,478)]\n",
    "\n",
    "Now we'll analyze the values shown in bold above in the section below."
   ]
  },
  {
   "cell_type": "markdown",
   "metadata": {},
   "source": [
    "**We will start off by analysing the lowest seperated houses** on the distance matrix."
   ]
  },
  {
   "cell_type": "markdown",
   "metadata": {},
   "source": [
    "##### Comparing the properties with id **0 and 1** with values shows below.\n",
    "As seen from the above values, all the properties such as **taxamount, land tax value** are very close to each other and hence the houses are similar in predicting the logerror values.What is important that these houses **are not** situated close to each other, as it can be seen by their latitudes and longitudes but because the weights for latitudes and longitudes are very small, hence these houses are similar in types. This is a proof that the **Distance function** is working correctly based on the weights."
   ]
  },
  {
   "cell_type": "code",
   "execution_count": 95,
   "metadata": {},
   "outputs": [
    {
     "data": {
      "text/plain": [
       "logerror                        0.495890\n",
       "bathroomcnt                     0.100000\n",
       "calculatedfinishedsquarefeet    0.073970\n",
       "finishedsquarefeet12            0.084054\n",
       "latitude                        0.637696\n",
       "longitude                       0.506793\n",
       "lotsizesquarefeet               0.001056\n",
       "structuretaxvaluedollarcnt      0.012330\n",
       "taxvaluedollarcnt               0.012978\n",
       "landtaxvaluedollarcnt           0.009690\n",
       "taxamount                       0.020774\n",
       "Name: 0, dtype: float64"
      ]
     },
     "execution_count": 95,
     "metadata": {},
     "output_type": "execute_result"
    }
   ],
   "source": [
    "x_train1.iloc[0]"
   ]
  },
  {
   "cell_type": "code",
   "execution_count": 96,
   "metadata": {},
   "outputs": [
    {
     "data": {
      "text/plain": [
       "logerror                        0.474909\n",
       "bathroomcnt                     0.175000\n",
       "calculatedfinishedsquarefeet    0.099433\n",
       "finishedsquarefeet12            0.112988\n",
       "latitude                        0.222673\n",
       "longitude                       0.935216\n",
       "lotsizesquarefeet               0.000499\n",
       "structuretaxvaluedollarcnt      0.034817\n",
       "taxvaluedollarcnt               0.021099\n",
       "landtaxvaluedollarcnt           0.009757\n",
       "taxamount                       0.031390\n",
       "Name: 1, dtype: float64"
      ]
     },
     "execution_count": 96,
     "metadata": {},
     "output_type": "execute_result"
    }
   ],
   "source": [
    "x_train1.iloc[1]"
   ]
  },
  {
   "cell_type": "markdown",
   "metadata": {},
   "source": [
    "##### Analysis of houses with high distance between them i.e. with id's 112 and 136\n",
    "Shown above are the values for and example of houses which are not similar in predicting the logerror. As it can be seen from the below values, there is a big difference in the values of **land tax value, tax value, finished square feet and calculated finished square feet.** Note that the above values are normalized, and hence the difference might not seem that large but actually it is large. The features listed above have high weights and hence the houses are seperated. This also prooves that the **Distance Matrix is a correct function** of houses based on the ability to predict the logerrors."
   ]
  },
  {
   "cell_type": "code",
   "execution_count": 99,
   "metadata": {},
   "outputs": [
    {
     "data": {
      "text/plain": [
       "logerror                        0.498159\n",
       "bathroomcnt                     0.150000\n",
       "calculatedfinishedsquarefeet    0.093804\n",
       "finishedsquarefeet12            0.106591\n",
       "latitude                        0.068883\n",
       "longitude                       0.975263\n",
       "lotsizesquarefeet               0.000622\n",
       "structuretaxvaluedollarcnt      0.017613\n",
       "taxvaluedollarcnt               0.026125\n",
       "landtaxvaluedollarcnt           0.022435\n",
       "taxamount                       0.023050\n",
       "Name: 112, dtype: float64"
      ]
     },
     "execution_count": 99,
     "metadata": {},
     "output_type": "execute_result"
    }
   ],
   "source": [
    "x_train1.iloc[112]"
   ]
  },
  {
   "cell_type": "code",
   "execution_count": 100,
   "metadata": {},
   "outputs": [
    {
     "data": {
      "text/plain": [
       "logerror                        0.497442\n",
       "bathroomcnt                     0.125000\n",
       "calculatedfinishedsquarefeet    0.074542\n",
       "finishedsquarefeet12            0.084703\n",
       "latitude                        0.749767\n",
       "longitude                       0.103978\n",
       "lotsizesquarefeet               0.001741\n",
       "structuretaxvaluedollarcnt      0.022809\n",
       "taxvaluedollarcnt               0.023423\n",
       "landtaxvaluedollarcnt           0.017264\n",
       "taxamount                       0.024230\n",
       "Name: 136, dtype: float64"
      ]
     },
     "execution_count": 100,
     "metadata": {},
     "output_type": "execute_result"
    }
   ],
   "source": [
    "x_train1.iloc[136]"
   ]
  },
  {
   "cell_type": "markdown",
   "metadata": {},
   "source": [
    "#### Task 3: \n",
    "Using your distance function and an appropriate clustering algorithm, cluster the houses using your distance function into 10 to 100 classes, as you see best.   Present a dot-plot/map (with tiny dots colored to reflect the clustering) illustrating the clusters your method produced.    Write a one page discussion/analysis of what your clusters seem to be capturing, and how well they work.\n",
    "\n",
    "For this part, we'll use the same **Distance function** as used in task 2 and generate clusters using the **DBSCAN** library in python.\n",
    "\n",
    "We start off by defining our Distance function below."
   ]
  },
  {
   "cell_type": "code",
   "execution_count": 102,
   "metadata": {},
   "outputs": [],
   "source": [
    "from sklearn.cluster import DBSCAN\n",
    "def dist_func(v1,v2):\n",
    "    return np.sqrt(np.sum(weights*(v1-v2)**2))"
   ]
  },
  {
   "cell_type": "markdown",
   "metadata": {},
   "source": [
    "After we've definined the **distance function**, we can compute the clusters using the code below."
   ]
  },
  {
   "cell_type": "code",
   "execution_count": 103,
   "metadata": {},
   "outputs": [],
   "source": [
    "db = DBSCAN(min_samples=20, eps=0.01, metric=dist_func).fit(X[0:10000,:])"
   ]
  },
  {
   "cell_type": "markdown",
   "metadata": {},
   "source": [
    "DBSCAN also suggests what is the **best possible number of clusters** from given data. To know the best possible clusters, use the command:"
   ]
  },
  {
   "cell_type": "code",
   "execution_count": 124,
   "metadata": {},
   "outputs": [
    {
     "data": {
      "text/plain": [
       "11"
      ]
     },
     "execution_count": 124,
     "metadata": {},
     "output_type": "execute_result"
    }
   ],
   "source": [
    "Xtemp = x_train1.iloc[0:100000]\n",
    "n_clusters_ = len(set(db.labels_)) - (1 if -1 in db.labels_ else 0)\n",
    "n_clusters_"
   ]
  },
  {
   "cell_type": "markdown",
   "metadata": {},
   "source": [
    "So, now we know that the sufficient number of clusters for our data is **11** clusters. Now we'll use this information to plot the clusters with lattitudes and longitudes using **K-Means** clustering algorithm."
   ]
  },
  {
   "cell_type": "markdown",
   "metadata": {},
   "source": [
    "Training the data on K-Means and Plotting the clusters"
   ]
  },
  {
   "cell_type": "code",
   "execution_count": 128,
   "metadata": {},
   "outputs": [],
   "source": [
    "import numpy as np\n",
    "from sklearn.cluster import KMeans\n",
    "km = KMeans(n_clusters=11)\n",
    "cluster = km.fit_predict(Xtemp)"
   ]
  },
  {
   "cell_type": "markdown",
   "metadata": {},
   "source": [
    "We will now plot the cluster with **lattitudes and longitudes** on the X and the Y axis to see how the location affect the clustering. However, because the weights of lattitudes and longitudes in our model were not significant, we don't expect the clusters to be properly seperated based on locations."
   ]
  },
  {
   "cell_type": "code",
   "execution_count": 132,
   "metadata": {},
   "outputs": [
    {
     "data": {
      "image/png": "[encoded data removed]",
      "text/plain": [
       "<matplotlib.figure.Figure at 0x7fab96dd6710>"
      ]
     },
     "metadata": {},
     "output_type": "display_data"
    }
   ],
   "source": [
    "import matplotlib.pyplot as plt\n",
    "labels = kmeans.labels_\n",
    "fig = plt.figure()\n",
    "fig.set_size_inches(18,10)\n",
    "plt.scatter(f1,f2,c=labels, marker='.',s=1)\n",
    "plt.title('Clustering Classificatin based on DBSCAN', fontsize=15)\n",
    "plt.ylabel('Lattitude',fontsize=12)\n",
    "plt.xlabel('Longitude',fontsize=12)\n",
    "plt.show()"
   ]
  },
  {
   "cell_type": "markdown",
   "metadata": {},
   "source": [
    "##### Discussion and Analysis of the clustering algorithm\n",
    "First we decided to run DBSCAN to evaluate what is the best number of clusters for the given dataset. We got the result to be **11 clusters** which can significantly represent the dataset.\n",
    "\n",
    "Looking at the clusters, we've plotted the clusters with Latitudes and Longitudes so that we can clearly evaluate the how the clusters of houses are distributed based on their location. Note that our predicting function was **predicting the logerror** and clusters based on prediction of logerror that are now shows based on how location affect the predictin of logerrors. \n",
    "\n",
    "It can be seen that location **does** affect the prediction of logerros when taken into count. Houses are clubbed into small clusters of same color show that they have the same or close prediction power for the logerror based on the features that we've got by **feature selection.**\n",
    "\n",
    "Even though latitude and longitude didn't have high weights during feature selection, they do affect the prediction of logerrors, as it is clear from the clustering. However, there are certain discrete areas where the clusters aren't very clear, it shows that latitudes and longitudes aren't good at predicting logerros in those areas.\n",
    "\n",
    "Also, considering that we plotted 11 clusters, only a few of them are dense and dominant. This is a sign that not all clusters are very much dependent on location of the houses. This point makes sense and is coherent with the feature selection results that we got which showed that latitudes and longitudes don't contribute much towards predicting the logerrors."
   ]
  },
  {
   "cell_type": "markdown",
   "metadata": {},
   "source": [
    "#### Task 4: Including an external dataset with the model.\n",
    "Identify at least one external data set which you can integrate into your price prediction analysis to make it better.  Perhaps it can be financial, such as the historical effects of interest rates, consumer confidence, etc. on housing prices.  Perhaps it can be geographic, like the crime rate, educational scores, income levels, etc. Write a one page discussion/analysis on whether this data helps with the prediction tasks.\n"
   ]
  },
  {
   "cell_type": "markdown",
   "metadata": {},
   "source": [
    "For the external dataset, we've decided to include the **Crime data in Los Angeles** along with the original properties data to see if the model improves it's performance or not.\n",
    "\n",
    "Link to the crime data: https://catalog.data.gov/dataset/crime-data-from-2010-to-present"
   ]
  },
  {
   "cell_type": "code",
   "execution_count": 134,
   "metadata": {},
   "outputs": [],
   "source": [
    "crime = pd.read_csv('data/crime.csv', usecols=['Location '])"
   ]
  },
  {
   "cell_type": "markdown",
   "metadata": {},
   "source": [
    "We will be **geo_crime** library to map the latitudes and longitudes from the Crime data to the Kaggle data. For that, we first need to seperate the **Latitudes and Longitudes** from the **Location** field of the original data."
   ]
  },
  {
   "cell_type": "code",
   "execution_count": 135,
   "metadata": {},
   "outputs": [],
   "source": [
    "geo_crime = crime['Location '].str.strip('()').str.split(', ', expand=True).rename(columns={0:'Latitude', 1:'Longitude'})\n",
    "geo_crime.columns = ['Latitude','Longitude']\n",
    "geo_crime = geo_crime.apply(pd.to_numeric)\n",
    "geo_crime = geo_crime.dropna()"
   ]
  },
  {
   "cell_type": "markdown",
   "metadata": {},
   "source": [
    "For simplicity, to combine the crime data to the original data, we'll be dividing the data in form of blocks. Dividing the latitudes and longitudes in **100 Blocks each** will give us **10,000** blocks of locations.\n",
    "For each block of location, we will calculate the mean crime value of the block and store it in a dataframe.\n",
    "After we've assigned each block a crime value, then we'll map the parcelid's from the Kaggle data to the respective blocks that they lie in and assign that property, the respective crime value."
   ]
  },
  {
   "cell_type": "code",
   "execution_count": 136,
   "metadata": {},
   "outputs": [],
   "source": [
    "lat_max = geo_crime.loc[geo_crime['Latitude'].idxmax()]['Latitude']\n",
    "lat_min = geo_crime.loc[geo_crime['Latitude'].idxmin()]['Latitude']\n",
    "lon_max = geo_crime.loc[geo_crime['Longitude'].idxmax()]['Longitude']\n",
    "lon_min = geo_crime.loc[geo_crime['Longitude'].idxmin()]['Longitude']"
   ]
  },
  {
   "cell_type": "markdown",
   "metadata": {},
   "source": [
    "Now we divide the latitudes and longitudes range into blocks. "
   ]
  },
  {
   "cell_type": "code",
   "execution_count": 137,
   "metadata": {},
   "outputs": [],
   "source": [
    "offset_lat = (lat_max - lat_min) / 100\n",
    "offset_lon = (lon_max - lon_min) / 100\n",
    "Blocks = pd.DataFrame(columns=['latitude_start','latitude_end','longitude_start','longitude_end','rate'])"
   ]
  },
  {
   "cell_type": "code",
   "execution_count": 138,
   "metadata": {},
   "outputs": [],
   "source": [
    "lat = pd.DataFrame({'A': np.linspace(lat_min, lat_max, 100)})\n",
    "lon = pd.DataFrame({'B': np.linspace(lon_min, lon_max, 100)})\n",
    "lat.columns = ['lat']\n",
    "lon.columns = ['lon']\n",
    "rate = np.zeros((100,100))"
   ]
  },
  {
   "cell_type": "markdown",
   "metadata": {},
   "source": [
    "In the previous step, we create a matrix named **rate** that stores the mean crime rate for each block of location. To fill the step matrix, we use the code below."
   ]
  },
  {
   "cell_type": "code",
   "execution_count": 144,
   "metadata": {},
   "outputs": [],
   "source": [
    "for index, row in geo_crime.iterrows():\n",
    "    a = row['Latitude']\n",
    "    b = row['Longitude']\n",
    "    for i in range(1,100):\n",
    "        if lat.loc[i-1,'lat'] <= a and a <= lat.loc[i,'lat']:\n",
    "            for j in range(1,100):\n",
    "                if lon.loc[j-1,'lon'] <= b and b <= lon.loc[j,'lon']:\n",
    "                    rate[i,j] = rate[i,j]  + 1\n",
    "                    break"
   ]
  },
  {
   "cell_type": "markdown",
   "metadata": {},
   "source": [
    "After we've initialized the **rate matrix** with the mean crime rates, we create a seperate field in the original Kaggle dataset named **rate** which stores the rate of crime for that parcel."
   ]
  },
  {
   "cell_type": "code",
   "execution_count": 145,
   "metadata": {},
   "outputs": [],
   "source": [
    "prop_2016['rate'] = 0\n",
    "prop_2017['rate'] = 0\n",
    "# Dividing the latitudes and longitudes so that they are in the same format as the crime data.\n",
    "prop_2016['latitude'] = prop_2016['latitude'] / 1000000\n",
    "prop_2017['longitude'] = prop_2017['longitude'] / 1000000"
   ]
  },
  {
   "cell_type": "markdown",
   "metadata": {},
   "source": [
    "After the **rate matrix** has the mean value of crimes in each area, we can map the parcels location to one of these blocks and assign it a crime rate which is equal to the crime value in that block. The code below is how we assign each parcel in our data, the mean value of crime in that area."
   ]
  },
  {
   "cell_type": "code",
   "execution_count": 146,
   "metadata": {},
   "outputs": [],
   "source": [
    "count = 0\n",
    "for index, row in prop_2016.iterrows():\n",
    "    a = row['latitude']\n",
    "    b = row['longitude']\n",
    "    for i in range(1,10):\n",
    "        if lat.loc[i-1,'lat'] < a and a < lat.loc[i,'lat']:\n",
    "            for j in range(1,10):\n",
    "                if lon.loc[j-1,'lon'] < b and b < lon.loc[j,'lon']:\n",
    "                    row['rate'] = rate[i,j]\n",
    "                    count = count + 1\n",
    "                    break"
   ]
  },
  {
   "cell_type": "markdown",
   "metadata": {},
   "source": [
    "Let's view our new data frame with included information about the crime data."
   ]
  },
  {
   "cell_type": "code",
   "execution_count": 156,
   "metadata": {},
   "outputs": [
    {
     "data": {
      "text/html": [
       "<div>\n",
       "<style>\n",
       "    .dataframe thead tr:only-child th {\n",
       "        text-align: right;\n",
       "    }\n",
       "\n",
       "    .dataframe thead th {\n",
       "        text-align: left;\n",
       "    }\n",
       "\n",
       "    .dataframe tbody tr th {\n",
       "        vertical-align: top;\n",
       "    }\n",
       "</style>\n",
       "<table border=\"1\" class=\"dataframe\">\n",
       "  <thead>\n",
       "    <tr style=\"text-align: right;\">\n",
       "      <th></th>\n",
       "      <th>parcelid</th>\n",
       "      <th>latitude</th>\n",
       "      <th>longitude</th>\n",
       "      <th>rate</th>\n",
       "    </tr>\n",
       "  </thead>\n",
       "  <tbody>\n",
       "    <tr>\n",
       "      <th>0</th>\n",
       "      <td>10754147</td>\n",
       "      <td>34144442.0</td>\n",
       "      <td>-118654084.0</td>\n",
       "      <td>11</td>\n",
       "    </tr>\n",
       "    <tr>\n",
       "      <th>1</th>\n",
       "      <td>10759547</td>\n",
       "      <td>34140430.0</td>\n",
       "      <td>-118625364.0</td>\n",
       "      <td>11</td>\n",
       "    </tr>\n",
       "    <tr>\n",
       "      <th>2</th>\n",
       "      <td>10843547</td>\n",
       "      <td>33989359.0</td>\n",
       "      <td>-118394633.0</td>\n",
       "      <td>18</td>\n",
       "    </tr>\n",
       "    <tr>\n",
       "      <th>3</th>\n",
       "      <td>10859147</td>\n",
       "      <td>34148863.0</td>\n",
       "      <td>-118437206.0</td>\n",
       "      <td>81</td>\n",
       "    </tr>\n",
       "    <tr>\n",
       "      <th>4</th>\n",
       "      <td>10879947</td>\n",
       "      <td>34194168.0</td>\n",
       "      <td>-118385816.0</td>\n",
       "      <td>79</td>\n",
       "    </tr>\n",
       "  </tbody>\n",
       "</table>\n",
       "</div>"
      ],
      "text/plain": [
       "   parcelid    latitude    longitude  rate\n",
       "0  10754147  34144442.0 -118654084.0    11\n",
       "1  10759547  34140430.0 -118625364.0    11\n",
       "2  10843547  33989359.0 -118394633.0    18\n",
       "3  10859147  34148863.0 -118437206.0    81\n",
       "4  10879947  34194168.0 -118385816.0    79"
      ]
     },
     "execution_count": 156,
     "metadata": {},
     "output_type": "execute_result"
    }
   ],
   "source": [
    "prop_2016[['parcelid','latitude','longitude','rate']].head()"
   ]
  },
  {
   "cell_type": "markdown",
   "metadata": {},
   "source": [
    "Similarly for properties of 2017"
   ]
  },
  {
   "cell_type": "code",
   "execution_count": 157,
   "metadata": {},
   "outputs": [
    {
     "data": {
      "text/html": [
       "<div>\n",
       "<style>\n",
       "    .dataframe thead tr:only-child th {\n",
       "        text-align: right;\n",
       "    }\n",
       "\n",
       "    .dataframe thead th {\n",
       "        text-align: left;\n",
       "    }\n",
       "\n",
       "    .dataframe tbody tr th {\n",
       "        vertical-align: top;\n",
       "    }\n",
       "</style>\n",
       "<table border=\"1\" class=\"dataframe\">\n",
       "  <thead>\n",
       "    <tr style=\"text-align: right;\">\n",
       "      <th></th>\n",
       "      <th>parcelid</th>\n",
       "      <th>latitude</th>\n",
       "      <th>longitude</th>\n",
       "      <th>rate</th>\n",
       "    </tr>\n",
       "  </thead>\n",
       "  <tbody>\n",
       "    <tr>\n",
       "      <th>0</th>\n",
       "      <td>10754147</td>\n",
       "      <td>34144442.0</td>\n",
       "      <td>-118654084.0</td>\n",
       "      <td>54</td>\n",
       "    </tr>\n",
       "    <tr>\n",
       "      <th>1</th>\n",
       "      <td>10759547</td>\n",
       "      <td>34140430.0</td>\n",
       "      <td>-118625364.0</td>\n",
       "      <td>31</td>\n",
       "    </tr>\n",
       "    <tr>\n",
       "      <th>2</th>\n",
       "      <td>10843547</td>\n",
       "      <td>33989359.0</td>\n",
       "      <td>-118394633.0</td>\n",
       "      <td>45</td>\n",
       "    </tr>\n",
       "    <tr>\n",
       "      <th>3</th>\n",
       "      <td>10859147</td>\n",
       "      <td>34148863.0</td>\n",
       "      <td>-118437206.0</td>\n",
       "      <td>18</td>\n",
       "    </tr>\n",
       "    <tr>\n",
       "      <th>4</th>\n",
       "      <td>10879947</td>\n",
       "      <td>34194168.0</td>\n",
       "      <td>-118385816.0</td>\n",
       "      <td>19</td>\n",
       "    </tr>\n",
       "  </tbody>\n",
       "</table>\n",
       "</div>"
      ],
      "text/plain": [
       "   parcelid    latitude    longitude  rate\n",
       "0  10754147  34144442.0 -118654084.0    54\n",
       "1  10759547  34140430.0 -118625364.0    31\n",
       "2  10843547  33989359.0 -118394633.0    45\n",
       "3  10859147  34148863.0 -118437206.0    18\n",
       "4  10879947  34194168.0 -118385816.0    19"
      ]
     },
     "execution_count": 157,
     "metadata": {},
     "output_type": "execute_result"
    }
   ],
   "source": [
    "prop_2017[['parcelid','latitude','longitude','rate']].head()"
   ]
  },
  {
   "cell_type": "markdown",
   "metadata": {},
   "source": [
    "##### Analysis of addition of the crime data to the dataset\n",
    "For evaluation, we will use linear regression on the new dataset and compare it to the results of the Linear regression without including the crime data."
   ]
  },
  {
   "cell_type": "code",
   "execution_count": 162,
   "metadata": {},
   "outputs": [],
   "source": [
    "from sklearn import linear_model\n",
    "from sklearn.metrics import mean_squared_error, r2_score"
   ]
  },
  {
   "cell_type": "markdown",
   "metadata": {},
   "source": [
    "Performing Linear Regression on original data **without the crime data**."
   ]
  },
  {
   "cell_type": "code",
   "execution_count": 163,
   "metadata": {},
   "outputs": [],
   "source": [
    "regr = linear_model.LinearRegression()\n",
    "regr.fit(X,Y)"
   ]
  },
  {
   "cell_type": "code",
   "execution_count": 165,
   "metadata": {},
   "outputs": [],
   "source": [
    "# Concatenating the test matrix to One\n",
    "TestY = np.concatenate((test1['logerror'],test2['logerror'],test3['logerror'],test4['logerror']))\n",
    "TestX = np.concatenate((test1.drop('logerror',axis=1),test2.drop('logerror',axis=1),\n",
    "                        test3.drop('logerror',axis=1),test4).drop('logerror',axis=1), axis=0)"
   ]
  },
  {
   "cell_type": "code",
   "execution_count": 166,
   "metadata": {},
   "outputs": [],
   "source": [
    "predict_y = regr.predict(TestX)"
   ]
  },
  {
   "cell_type": "markdown",
   "metadata": {},
   "source": [
    "The result for the data **not** including crime data."
   ]
  },
  {
   "cell_type": "code",
   "execution_count": 164,
   "metadata": {},
   "outputs": [
    {
     "name": "stdout",
     "output_type": "stream",
     "text": [
      "0.0246944107389\n",
      "0.00398665852805\n"
     ]
    }
   ],
   "source": [
    "print(mean_squared_error(TestY, predict_y))\n",
    "print(r2_score(TestY, predict_y))"
   ]
  },
  {
   "cell_type": "markdown",
   "metadata": {},
   "source": [
    "Now that we've the score of the data without crime data, let's try to run **Linear Regression** on the data by including the crime data.\n",
    "To include the crime data, we first need to add a column to the X and the Y matrix. Repeating steps for normalization and matrix formation, we the data for crime in the matrices **X_crime** and testing data in **TestX_crime**."
   ]
  },
  {
   "cell_type": "code",
   "execution_count": 167,
   "metadata": {},
   "outputs": [
    {
     "name": "stdout",
     "output_type": "stream",
     "text": [
      "0.0245493147902\n",
      "0.00992894127855\n"
     ]
    }
   ],
   "source": [
    "regr.fit(X_crime, Y)\n",
    "predict_y = regr.predict(TestX_crime)\n",
    "print(mean_squared_error(TestY, predict_y))\n",
    "print(r2_score(TestY, predict_y))"
   ]
  },
  {
   "cell_type": "markdown",
   "metadata": {},
   "source": [
    "##### Evaluation Results:\n",
    "It can be seen that after including the crime data, the $r^2$ value increased but there was only a slight decrease in the **mean squared error.** The increase in the $r^2$ value shows that the quality of the model has increased with increase in the prediction power for the logerror.\n",
    "\n",
    "Hence, the insertion of crime data, even though not that significantly helpful, has somewhat increased the prediction power of the model."
   ]
  },
  {
   "cell_type": "markdown",
   "metadata": {},
   "source": [
    "#### Task 5: Generate a predicting model and evaluate the results by submitting to Kaggle\n",
    "Build the best prediction model you can to solve the Zillow task.  Use any data, ideas, and approach that you like. Predict the logerror for instances at file “sample_submission.csv”.  Report the score/rank you get.\n",
    "\n",
    "For this part, we'll use **Gradient Descent** algorithm to predict the data, which should perform better than simple linear regression. \n",
    "\n",
    "Gradient Descent works gradually towards decreasing the **mean absolute error** and goes until the mean absolute error starts increasing. It then reports the final parameters for the **lowest mean squared error**.\n",
    "\n",
    "For implementing the gradient descent, we'll use the **XGBoost** library in python."
   ]
  },
  {
   "cell_type": "code",
   "execution_count": 168,
   "metadata": {},
   "outputs": [],
   "source": [
    "import xgboost as xgb"
   ]
  },
  {
   "cell_type": "markdown",
   "metadata": {},
   "source": [
    "Creating the Matrix in the specified format for evaluation and training."
   ]
  },
  {
   "cell_type": "code",
   "execution_count": 171,
   "metadata": {},
   "outputs": [],
   "source": [
    "XDB = xgb.DMatrix(X, label=Y)"
   ]
  },
  {
   "cell_type": "markdown",
   "metadata": {},
   "source": [
    "Creating the evaluation matrix which is same as the original matrix."
   ]
  },
  {
   "cell_type": "code",
   "execution_count": 172,
   "metadata": {},
   "outputs": [],
   "source": [
    "evals = [(XDB,'train'),(XDB,'valid')]"
   ]
  },
  {
   "cell_type": "markdown",
   "metadata": {},
   "source": [
    "Now we will set the parameters for gradient descent in a function."
   ]
  },
  {
   "cell_type": "code",
   "execution_count": 173,
   "metadata": {},
   "outputs": [],
   "source": [
    "def build_model():\n",
    "    global xgb_params\n",
    "    xgb_params = {\n",
    "        'eta': 0.007,\n",
    "        'max_depth': 6, \n",
    "        'subsample': 0.6,\n",
    "        'objective': 'reg:linear',\n",
    "        'eval_metric': 'mae',\n",
    "        'lambda': 9.0,\n",
    "        'alpha': 0.8,\n",
    "        'colsample_bytree': 0.7,\n",
    "        'silent': 1\n",
    "    }"
   ]
  },
  {
   "cell_type": "code",
   "execution_count": 174,
   "metadata": {},
   "outputs": [],
   "source": [
    "build_model()"
   ]
  },
  {
   "cell_type": "markdown",
   "metadata": {},
   "source": [
    "After all the parameters are set, we can train our model using the following command."
   ]
  },
  {
   "cell_type": "code",
   "execution_count": 175,
   "metadata": {},
   "outputs": [],
   "source": [
    "xgb_clf = xgb.train(xgb_params, XDB, num_boost_round=10000, evals=evals, early_stopping_rounds=100)"
   ]
  },
  {
   "cell_type": "markdown",
   "metadata": {},
   "source": [
    "After training, we can evaluate our model my predicting the logerror for the testing dataset. First, we'll prepare the training dataset."
   ]
  },
  {
   "cell_type": "code",
   "execution_count": 179,
   "metadata": {},
   "outputs": [],
   "source": [
    "Y1 = test1['logerror'].values\n",
    "Y2 = test2['logerror'].values\n",
    "Y3 = test3['logerror'].values\n",
    "Y4 = test4['logerror'].values\n",
    "Xtest1 = test1.drop(['logerror','parcelid'], axis=1).as_matrix()\n",
    "Xtest2 = test2.drop(['logerror','parcelid'], axis=1).as_matrix()\n",
    "Xtest3 = test3.drop(['logerror','parcelid'], axis=1).as_matrix()\n",
    "Xtest4 = test4.drop(['logerror','parcelid'], axis=1).as_matrix()"
   ]
  },
  {
   "cell_type": "code",
   "execution_count": 181,
   "metadata": {},
   "outputs": [],
   "source": [
    "Xtest = np.concatenate((Xtest1,Xtest2,Xtest3,Xtest4), axis=0)\n",
    "Xtest = xgb.DMatrix(Xtest)\n",
    "pred = xgb_clf.predict(Xtest)"
   ]
  },
  {
   "cell_type": "markdown",
   "metadata": {},
   "source": [
    "Time to evaluate the model, we'll find out what is the mean squared error and $r^2$ value for our trained model."
   ]
  },
  {
   "cell_type": "code",
   "execution_count": 182,
   "metadata": {},
   "outputs": [
    {
     "name": "stdout",
     "output_type": "stream",
     "text": [
      "0.000315051479454\n",
      "0.299846967747\n"
     ]
    }
   ],
   "source": [
    "Y = np.concatenate((Y1,Y2,Y3,Y4), axis=0)\n",
    "print(mean_squared_error(Y,pred))\n",
    "print(r2_score(Y,pred))"
   ]
  },
  {
   "cell_type": "markdown",
   "metadata": {},
   "source": [
    "The $r^2$ has greatly increased from the last **linear regression** results, which is a sign that the model has good predicting power. Below are the **Kaggle submission** results:"
   ]
  },
  {
   "cell_type": "markdown",
   "metadata": {},
   "source": [
    " - Submission 1 **(Support Vector Regression)** zestimate = 0.1131807\n",
    " - Submission 2 **(Gradient Descent)** zestimate = 0.0656324"
   ]
  },
  {
   "cell_type": "markdown",
   "metadata": {},
   "source": [
    "#### Task 6 Permutation test\n",
    "For permutation testing, we will use python's **permutation_test_score** library included in **sklearn.** Permutation testing is done on the predicted values by permuting the original test values in random order. "
   ]
  },
  {
   "cell_type": "code",
   "execution_count": 209,
   "metadata": {},
   "outputs": [],
   "source": [
    "from sklearn.model_selection import permutation_test_score\n",
    "from sklearn.svm import SVR\n",
    "from sklearn.model_selection import StratifiedKFold"
   ]
  },
  {
   "cell_type": "markdown",
   "metadata": {},
   "source": [
    "Initializing the models to pass into the permutation function."
   ]
  },
  {
   "cell_type": "code",
   "execution_count": 210,
   "metadata": {},
   "outputs": [],
   "source": [
    "svr = SVR()\n",
    "cv = StratifiedKFold(2)"
   ]
  },
  {
   "cell_type": "code",
   "execution_count": 247,
   "metadata": {
    "collapsed": true
   },
   "outputs": [
    {
     "name": "stderr",
     "output_type": "stream",
     "text": [
      "[Parallel(n_jobs=1)]: Done 100 out of 100 | elapsed:   24.2s finished\n"
     ]
    }
   ],
   "source": [
    "score, permutation_scores, pvalue = permutation_test_score(\n",
    "    svr, X[0:10000,:], Y[0:10000], cv=cv, n_permutations=100, n_jobs=1, verbose=1)"
   ]
  },
  {
   "cell_type": "code",
   "execution_count": 248,
   "metadata": {},
   "outputs": [
    {
     "name": "stdout",
     "output_type": "stream",
     "text": [
      "Classification score -1.87045091487 (pvalue : 0.029702970297)\n"
     ]
    }
   ],
   "source": [
    "print(\"Classification score %s (pvalue : %s)\" % (score, pvalue))"
   ]
  },
  {
   "cell_type": "markdown",
   "metadata": {},
   "source": [
    "The small P value shows that the prediction model actually works and is not a fluke."
   ]
  },
  {
   "cell_type": "markdown",
   "metadata": {},
   "source": [
    "Now we'll plot the permutations and the actual scoring function to show how it's seperated from the random permutations."
   ]
  },
  {
   "cell_type": "code",
   "execution_count": 244,
   "metadata": {},
   "outputs": [],
   "source": [
    "n_classes = np.unique(Y).size"
   ]
  },
  {
   "cell_type": "code",
   "execution_count": 243,
   "metadata": {},
   "outputs": [
    {
     "data": {
      "image/png": "[encoded data removed]",
      "text/plain": [
       "<matplotlib.figure.Figure at 0x7fab96b42fd0>"
      ]
     },
     "metadata": {},
     "output_type": "display_data"
    }
   ],
   "source": [
    "plt.hist(permutation_scores, 20, label='Permutation scores',\n",
    "         edgecolor='black')\n",
    "ylim = plt.ylim()\n",
    "# BUG: vlines(..., linestyle='--') fails on older versions of matplotlib\n",
    "# plt.vlines(score, ylim[0], ylim[1], linestyle='--',\n",
    "#          color='g', linewidth=3, label='Classification Score'\n",
    "#          ' (pvalue %s)' % pvalue)\n",
    "# plt.vlines(1.0 / n_classes, ylim[0], ylim[1], linestyle='--',\n",
    "#          color='k', linewidth=3, label='Luck')\n",
    "plt.plot(2 * [score], ylim, '--g', linewidth=3,\n",
    "         label='Classification Score'\n",
    "         ' (pvalue %s)' % pvalue)\n",
    "plt.ylim(ylim)\n",
    "plt.legend()\n",
    "plt.xlabel('Score')\n",
    "plt.show()"
   ]
  },
  {
   "cell_type": "markdown",
   "metadata": {},
   "source": [
    "##### Analysis\n",
    "For large number of permutation i.e. 100, the prediction by the model come close to the mean of the random predictions for the small portion of the dataset.\n",
    "\n",
    "As we increase the size of the dataset, the P value decreases, showing that for a large dataset, P value actually becomes very small.\n",
    "\n",
    "**Permutations > 100** for a **50,000** row dataset produce the model as good as the real dataset with a low P value of around 0.0099."
   ]
  }
 ],
 "metadata": {
  "kernelspec": {
   "display_name": "Python 3",
   "language": "python",
   "name": "python3"
  },
  "language_info": {
   "codemirror_mode": {
    "name": "ipython",
    "version": 3
   },
   "file_extension": ".py",
   "mimetype": "text/x-python",
   "name": "python",
   "nbconvert_exporter": "python",
   "pygments_lexer": "ipython3",
   "version": "3.4.3"
  }
 },
 "nbformat": 4,
 "nbformat_minor": 2
}
